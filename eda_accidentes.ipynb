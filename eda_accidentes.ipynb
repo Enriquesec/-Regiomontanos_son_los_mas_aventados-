{
 "cells": [
  {
   "cell_type": "markdown",
   "metadata": {},
   "source": [
    "# ¿Los regiomontanos son los más aventados? \n",
    "\n",
    "Desde mi primer día estando en la ciudad de Monterrey, NL. me percate de varias diferencias comparadas con la CDMX. \n",
    "\n",
    "#### ¿Es cierto que la ciudad de Monterrey tiene la mayor cantidad de accidentes automovolistas?\n",
    "##### Si es cierto, ¿cuáles son los posibles factores que puedan explicar esta diferencia?\n",
    "\n",
    "\n",
    "Primero descarguemos los accidentes automovilisticos de las 15 zonas metropolitanas de México con mayor población.\n",
    "1. Zona metropolitana del valle de México.\n",
    "2. Zona metropolitana de Guadalajara.\n",
    "3. Zona metropolitana de Monterrey.\n",
    "4. Zona metropolitana de Puebla-Tlaxcala.\n",
    "5. Zona metropolitana del Valle de Toluca.\n",
    "6. Zona metropolitana de Tijuana.\n",
    "7. Zona metropolitana de León.\n",
    "8. Zona metropolitana de Ciudad Juárez.\n",
    "9. Zona metropolitana de La Laguna.\n",
    "10. Zona metropolitana de Quéretaro.\n",
    "11. Zona metropolitana de San Luis Potosí.\n",
    "12. Zona metropolitana de Mérida.\n",
    "13. Mexicali.\n",
    "14. Zona metropolitana de Aguascalientes.\n",
    "15. Zona metropolitana de Cuernavaca."
   ]
  },
  {
   "cell_type": "code",
   "execution_count": 2,
   "metadata": {},
   "outputs": [],
   "source": [
    "import pandas as pd"
   ]
  },
  {
   "cell_type": "code",
   "execution_count": 3,
   "metadata": {},
   "outputs": [],
   "source": [
    "accidentes_pd = pd.read_csv(\"data/atus_anual_1997_2019/conjunto_de_datos/atus_anual_2014.csv\")"
   ]
  },
  {
   "cell_type": "code",
   "execution_count": 5,
   "metadata": {},
   "outputs": [
    {
     "data": {
      "text/html": [
       "<div>\n",
       "<table border=\"1\" class=\"dataframe\">\n",
       "  <thead>\n",
       "    <tr style=\"text-align: right;\">\n",
       "      <th></th>\n",
       "      <th>﻿COBERTURA</th>\n",
       "      <th>ID_ENTIDAD</th>\n",
       "      <th>ID_MUNICIPIO</th>\n",
       "      <th>ANIO</th>\n",
       "      <th>MES</th>\n",
       "      <th>ID_HORA</th>\n",
       "      <th>ID_MINUTO</th>\n",
       "      <th>ID_DIA</th>\n",
       "      <th>DIASEMANA</th>\n",
       "      <th>URBANA</th>\n",
       "      <th>...</th>\n",
       "      <th>PEATMUERTO</th>\n",
       "      <th>PEATHERIDO</th>\n",
       "      <th>CICLMUERTO</th>\n",
       "      <th>CICLHERIDO</th>\n",
       "      <th>OTROMUERTO</th>\n",
       "      <th>OTROHERIDO</th>\n",
       "      <th>NEMUERTO</th>\n",
       "      <th>NEHERIDO</th>\n",
       "      <th>CLASACC</th>\n",
       "      <th>ESTATUS</th>\n",
       "    </tr>\n",
       "  </thead>\n",
       "  <tbody>\n",
       "    <tr>\n",
       "      <th>Municipal</th>\n",
       "      <td>1</td>\n",
       "      <td>1</td>\n",
       "      <td>2014</td>\n",
       "      <td>1</td>\n",
       "      <td>12</td>\n",
       "      <td>12</td>\n",
       "      <td>11</td>\n",
       "      <td>Sábado</td>\n",
       "      <td>Accidente en no intersección</td>\n",
       "      <td>Sin accidente en esta zona</td>\n",
       "      <td>...</td>\n",
       "      <td>0</td>\n",
       "      <td>0</td>\n",
       "      <td>0</td>\n",
       "      <td>0</td>\n",
       "      <td>0</td>\n",
       "      <td>0</td>\n",
       "      <td>0</td>\n",
       "      <td>Sólo daños</td>\n",
       "      <td>Cifras Revisadas</td>\n",
       "      <td>NaN</td>\n",
       "    </tr>\n",
       "    <tr>\n",
       "      <th>Municipal</th>\n",
       "      <td>1</td>\n",
       "      <td>1</td>\n",
       "      <td>2014</td>\n",
       "      <td>1</td>\n",
       "      <td>6</td>\n",
       "      <td>10</td>\n",
       "      <td>23</td>\n",
       "      <td>Jueves</td>\n",
       "      <td>Accidente en no intersección</td>\n",
       "      <td>Sin accidente en esta zona</td>\n",
       "      <td>...</td>\n",
       "      <td>0</td>\n",
       "      <td>0</td>\n",
       "      <td>0</td>\n",
       "      <td>0</td>\n",
       "      <td>0</td>\n",
       "      <td>0</td>\n",
       "      <td>0</td>\n",
       "      <td>Sólo daños</td>\n",
       "      <td>Cifras Revisadas</td>\n",
       "      <td>NaN</td>\n",
       "    </tr>\n",
       "  </tbody>\n",
       "</table>\n",
       "<p>2 rows × 45 columns</p>\n",
       "</div>"
      ],
      "text/plain": [
       "           ﻿COBERTURA  ID_ENTIDAD  ID_MUNICIPIO  ANIO  MES  ID_HORA  \\\n",
       "Municipal           1           1          2014     1   12       12   \n",
       "Municipal           1           1          2014     1    6       10   \n",
       "\n",
       "           ID_MINUTO  ID_DIA                     DIASEMANA  \\\n",
       "Municipal         11  Sábado  Accidente en no intersección   \n",
       "Municipal         23  Jueves  Accidente en no intersección   \n",
       "\n",
       "                               URBANA   ...    PEATMUERTO  PEATHERIDO  \\\n",
       "Municipal  Sin accidente en esta zona   ...             0           0   \n",
       "Municipal  Sin accidente en esta zona   ...             0           0   \n",
       "\n",
       "           CICLMUERTO  CICLHERIDO  OTROMUERTO  OTROHERIDO  NEMUERTO  \\\n",
       "Municipal           0           0           0           0         0   \n",
       "Municipal           0           0           0           0         0   \n",
       "\n",
       "             NEHERIDO           CLASACC  ESTATUS  \n",
       "Municipal  Sólo daños  Cifras Revisadas      NaN  \n",
       "Municipal  Sólo daños  Cifras Revisadas      NaN  \n",
       "\n",
       "[2 rows x 45 columns]"
      ]
     },
     "execution_count": 5,
     "metadata": {},
     "output_type": "execute_result"
    }
   ],
   "source": [
    "accidentes_pd.head(2)"
   ]
  },
  {
   "cell_type": "code",
   "execution_count": null,
   "metadata": {},
   "outputs": [],
   "source": []
  }
 ],
 "metadata": {
  "kernelspec": {
   "display_name": "Python 3",
   "language": "python",
   "name": "python3"
  },
  "language_info": {
   "codemirror_mode": {
    "name": "ipython",
    "version": 3
   },
   "file_extension": ".py",
   "mimetype": "text/x-python",
   "name": "python",
   "nbconvert_exporter": "python",
   "pygments_lexer": "ipython3",
   "version": "3.5.2"
  }
 },
 "nbformat": 4,
 "nbformat_minor": 2
}
